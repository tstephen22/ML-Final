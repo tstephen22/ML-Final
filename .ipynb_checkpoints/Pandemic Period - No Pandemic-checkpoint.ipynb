{
 "cells": [
  {
   "cell_type": "code",
   "execution_count": 2,
   "id": "a0364282-a4b3-4703-849b-f324708153e0",
   "metadata": {},
   "outputs": [
    {
     "name": "stdout",
     "output_type": "stream",
     "text": [
      "File read.\n"
     ]
    }
   ],
   "source": [
    "import pandas as pd \n",
    "import numpy as np \n",
    "from datetime import datetime\n",
    "#Note - change this to DATA.csv\n",
    "file = pd.read_csv('dublinbikes_20191001_20200101.csv')\n",
    "print(\"File read.\")"
   ]
  },
  {
   "cell_type": "code",
   "execution_count": 10,
   "id": "356c2825-6766-4f39-ba02-8248119e3e48",
   "metadata": {},
   "outputs": [
    {
     "data": {
      "application/vnd.jupyter.widget-view+json": {
       "model_id": "57962c4271e04004834b5707b50b6f30",
       "version_major": 2,
       "version_minor": 0
      },
      "text/plain": [
       "Pandas Apply:   0%|          | 0/22808 [00:00<?, ?it/s]"
      ]
     },
     "metadata": {},
     "output_type": "display_data"
    },
    {
     "name": "stdout",
     "output_type": "stream",
     "text": [
      "                     TIME  IN USE         DAY\n",
      "0     2019-10-01 00:00:02    2097  2019-10-01\n",
      "1     2019-10-01 00:05:03    2097  2019-10-01\n",
      "2     2019-10-01 00:10:02    2097  2019-10-01\n",
      "3     2019-10-01 00:15:02    2097  2019-10-01\n",
      "4     2019-10-01 00:20:02    2097  2019-10-01\n",
      "5     2019-10-01 00:25:02    2097  2019-10-01\n",
      "6     2019-10-01 00:30:02    2097  2019-10-01\n",
      "7     2019-10-01 00:35:03    2097  2019-10-01\n",
      "8     2019-10-01 00:40:03    2097  2019-10-01\n",
      "9     2019-10-01 00:45:02    2097  2019-10-01\n",
      "...                   ...     ...         ...\n",
      "22798 2020-01-01 19:35:02    2134  2020-01-01\n",
      "22799 2020-01-01 19:40:03    2137  2020-01-01\n",
      "22800 2020-01-01 19:45:02    2131  2020-01-01\n",
      "22801 2020-01-01 19:50:02    2128  2020-01-01\n",
      "22802 2020-01-01 19:55:02    2138  2020-01-01\n",
      "22803 2020-01-01 20:00:02    2139  2020-01-01\n",
      "22804 2020-01-01 20:05:03    2137  2020-01-01\n",
      "22805 2020-01-01 20:10:02    2135  2020-01-01\n",
      "22806 2020-01-01 20:15:02    2134  2020-01-01\n",
      "22807 2020-01-01 20:20:02    1723  2020-01-01\n"
     ]
    }
   ],
   "source": [
    "import swifter\n",
    "# City bike usage for pandemic period if the pandemic DID NOT happen -----------------------\n",
    "#Drop irrelevant fields \n",
    "data = file.drop(columns=['STATION ID', 'LAST UPDATED', 'NAME', 'STATUS', 'ADDRESS', 'LATITUDE', 'LONGITUDE', 'BIKE STANDS', 'AVAILABLE BIKES'])\n",
    "#Convert time to datetime objects for comparison \n",
    "data['TIME'] = pd.to_datetime(data['TIME'])\n",
    "# Sort by time \n",
    "data = data.sort_values(by=['TIME'])\n",
    "# BIKES IN USE = TOTAL AVAILABLE BIKE STANDS AT A SINGLE POINT IN TIME \n",
    "data['IN USE'] = data.groupby(['TIME'])['AVAILABLE BIKE STANDS'].transform('sum')\n",
    "# Drop duplicates and drop now irrelevant field \n",
    "data = data.drop_duplicates(subset=['TIME'])\n",
    "data = data.drop(columns=[\"AVAILABLE BIKE STANDS\"]) \n",
    "data = data.reset_index(drop=True)\n",
    "data['DAY'] = data.swifter.apply(lambda x : x['TIME'].date(), axis = 1)\n",
    "print(data.to_string(max_rows=20))"
   ]
  },
  {
   "cell_type": "code",
   "execution_count": 11,
   "id": "49f9416f-d7a0-4367-aef0-aacf25a52ff1",
   "metadata": {},
   "outputs": [
    {
     "name": "stdout",
     "output_type": "stream",
     "text": [
      "Reading weather ...\n",
      "File read.\n"
     ]
    }
   ],
   "source": [
    "#Getting weather data \n",
    "print('Reading weather ...')\n",
    "weather = pd.read_csv('weather.csv')\n",
    "print('File read.') "
   ]
  },
  {
   "cell_type": "code",
   "execution_count": 12,
   "id": "e60d0356-7ee6-4140-aae3-41d1a27b34c4",
   "metadata": {},
   "outputs": [
    {
     "name": "stdout",
     "output_type": "stream",
     "text": [
      "            DAY  RAIN MAX_TEMP MIN_TEMP\n",
      "0    2019-01-01   0.2      9.8      9.2\n",
      "1    2019-01-02   0.0      8.6      6.0\n",
      "2    2019-01-03   0.0      8.2      6.2\n",
      "3    2019-01-04   0.0      6.6      5.8\n",
      "4    2019-01-05   0.0      9.5      1.7\n",
      "5    2019-01-06   0.0     11.8      3.4\n",
      "6    2019-01-07   0.0     11.7      7.7\n",
      "7    2019-01-08   0.0      9.2      6.6\n",
      "8    2019-01-09   0.8      9.2      5.2\n",
      "9    2019-01-10   0.4     10.9      5.3\n",
      "...         ...   ...      ...      ...\n",
      "1663 2023-08-22   0.1                  \n",
      "1664 2023-08-23   0.1                  \n",
      "1665 2023-08-24   0.0                  \n",
      "1666 2023-08-25   4.6                  \n",
      "1667 2023-08-26   1.7                  \n",
      "1668 2023-08-27   0.1                  \n",
      "1669 2023-08-28   0.2                  \n",
      "1670 2023-08-29   0.0                  \n",
      "1671 2023-08-30   0.0                  \n",
      "1672 2023-08-31   1.7                  \n",
      "                     TIME  IN USE        DAY  RAIN MAX_TEMP MIN_TEMP\n",
      "0     2019-10-01 00:00:02    2097 2019-10-01   8.6     11.1      9.1\n",
      "1     2019-10-01 00:05:03    2097 2019-10-01   8.6     11.1      9.1\n",
      "2     2019-10-01 00:10:02    2097 2019-10-01   8.6     11.1      9.1\n",
      "3     2019-10-01 00:15:02    2097 2019-10-01   8.6     11.1      9.1\n",
      "4     2019-10-01 00:20:02    2097 2019-10-01   8.6     11.1      9.1\n",
      "5     2019-10-01 00:25:02    2097 2019-10-01   8.6     11.1      9.1\n",
      "6     2019-10-01 00:30:02    2097 2019-10-01   8.6     11.1      9.1\n",
      "7     2019-10-01 00:35:03    2097 2019-10-01   8.6     11.1      9.1\n",
      "8     2019-10-01 00:40:03    2097 2019-10-01   8.6     11.1      9.1\n",
      "9     2019-10-01 00:45:02    2097 2019-10-01   8.6     11.1      9.1\n",
      "...                   ...     ...        ...   ...      ...      ...\n",
      "22798 2020-01-01 19:35:02    2134 2020-01-01   0.0     10.8      4.5\n",
      "22799 2020-01-01 19:40:03    2137 2020-01-01   0.0     10.8      4.5\n",
      "22800 2020-01-01 19:45:02    2131 2020-01-01   0.0     10.8      4.5\n",
      "22801 2020-01-01 19:50:02    2128 2020-01-01   0.0     10.8      4.5\n",
      "22802 2020-01-01 19:55:02    2138 2020-01-01   0.0     10.8      4.5\n",
      "22803 2020-01-01 20:00:02    2139 2020-01-01   0.0     10.8      4.5\n",
      "22804 2020-01-01 20:05:03    2137 2020-01-01   0.0     10.8      4.5\n",
      "22805 2020-01-01 20:10:02    2135 2020-01-01   0.0     10.8      4.5\n",
      "22806 2020-01-01 20:15:02    2134 2020-01-01   0.0     10.8      4.5\n",
      "22807 2020-01-01 20:20:02    1723 2020-01-01   0.0     10.8      4.5\n"
     ]
    }
   ],
   "source": [
    "#Convert to datetime objs \n",
    "weather['date'] = pd.to_datetime(weather['date'], format='%d-%b-%Y') \n",
    "data['DAY']=data['DAY'].astype(\"datetime64[ns]\")\n",
    "#Drop irrelevant fields (soil/grass temp)\n",
    "weather = weather.drop(columns=['ind', 'ind.1', 'ind.2', 'gmin', 'soil'])\n",
    "weather = weather.rename(columns={\"date\":\"DAY\", \"rain\":\"RAIN\", \"maxt\":\"MAX_TEMP\", \"mint\":\"MIN_TEMP\"})\n",
    "merged = data.merge(weather)\n",
    "print(merged.to_string(max_rows=20))"
   ]
  },
  {
   "cell_type": "code",
   "execution_count": null,
   "id": "844f847e-0526-4a99-8251-0bcc301ee4fb",
   "metadata": {},
   "outputs": [],
   "source": [
    "from sklearn.linear_model import LogisiticRegression \n",
    "from sklearn.preprocessing import PolynomialFeatures \n",
    "\n",
    "time = data['TIME'] \n",
    "bikesInUse = data['TOTAL BIKES IN USE']\n",
    "hidden_size = 5\n",
    "x = time \n",
    "y = bikesInUse\n"
   ]
  },
  {
   "cell_type": "code",
   "execution_count": null,
   "id": "12a59fd6-e9c5-44ff-b0eb-5f425f507452",
   "metadata": {},
   "outputs": [],
   "source": []
  }
 ],
 "metadata": {
  "kernelspec": {
   "display_name": "Python 3 (ipykernel)",
   "language": "python",
   "name": "python3"
  },
  "language_info": {
   "codemirror_mode": {
    "name": "ipython",
    "version": 3
   },
   "file_extension": ".py",
   "mimetype": "text/x-python",
   "name": "python",
   "nbconvert_exporter": "python",
   "pygments_lexer": "ipython3",
   "version": "3.10.12"
  }
 },
 "nbformat": 4,
 "nbformat_minor": 5
}
